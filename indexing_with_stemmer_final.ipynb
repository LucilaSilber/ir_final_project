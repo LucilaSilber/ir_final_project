{
 "cells": [
  {
   "cell_type": "markdown",
   "id": "a00e032c",
   "metadata": {
    "id": "a00e032c",
    "pycharm": {
     "name": "#%% md\n"
    }
   },
   "source": [
    "***Important*** DO NOT CLEAR THE OUTPUT OF THIS NOTEBOOK AFTER EXECUTION!!!"
   ]
  },
  {
   "cell_type": "code",
   "execution_count": 1,
   "id": "5ac36d3a",
   "metadata": {
    "colab": {
     "base_uri": "https://localhost:8080/"
    },
    "id": "5ac36d3a",
    "nbgrader": {
     "grade": false,
     "grade_id": "cell-Worker_Count",
     "locked": true,
     "schema_version": 3,
     "solution": false,
     "task": false
    },
    "outputId": "f2fe0ef9-5703-48e4-dd4b-732557fb4433",
    "pycharm": {
     "name": "#%%\n"
    }
   },
   "outputs": [
    {
     "name": "stdout",
     "output_type": "stream",
     "text": [
      "NAME          PLATFORM  WORKER_COUNT  PREEMPTIBLE_WORKER_COUNT  STATUS   ZONE           SCHEDULED_DELETE\r\n",
      "cluster-f9c0  GCE       5                                       RUNNING  us-central1-a\r\n"
     ]
    }
   ],
   "source": [
    "# if the following command generates an error, you probably didn't enable \n",
    "# the cluster security option \"Allow API access to all Google Cloud services\"\n",
    "# under Manage Security → Project Access when setting up the cluster\n",
    "!gcloud dataproc clusters list --region us-central1"
   ]
  },
  {
   "cell_type": "markdown",
   "id": "51cf86c5",
   "metadata": {
    "id": "51cf86c5",
    "pycharm": {
     "name": "#%% md\n"
    }
   },
   "source": [
    "# Imports & Setup"
   ]
  },
  {
   "cell_type": "code",
   "execution_count": 2,
   "id": "bf199e6a",
   "metadata": {
    "id": "bf199e6a",
    "nbgrader": {
     "grade": false,
     "grade_id": "cell-Setup",
     "locked": true,
     "schema_version": 3,
     "solution": false,
     "task": false
    },
    "outputId": "fc0e315d-21e9-411d-d69c-5b97e4e5d629",
    "pycharm": {
     "name": "#%%\n"
    }
   },
   "outputs": [
    {
     "name": "stdout",
     "output_type": "stream",
     "text": [
      "\u001B[33mWARNING: Running pip as the 'root' user can result in broken permissions and conflicting behaviour with the system package manager. It is recommended to use a virtual environment instead: https://pip.pypa.io/warnings/venv\u001B[0m\u001B[33m\n",
      "\u001B[0m\u001B[33mWARNING: Running pip as the 'root' user can result in broken permissions and conflicting behaviour with the system package manager. It is recommended to use a virtual environment instead: https://pip.pypa.io/warnings/venv\u001B[0m\u001B[33m\n",
      "\u001B[0m"
     ]
    }
   ],
   "source": [
    "!pip install -q google-cloud-storage==1.43.0\n",
    "!pip install -q graphframes"
   ]
  },
  {
   "cell_type": "code",
   "execution_count": 3,
   "id": "d4039163",
   "metadata": {
    "id": "d4039163",
    "outputId": "0a1ade44-93ca-4e41-bfb2-13058d977e1e",
    "pycharm": {
     "name": "#%%\n"
    }
   },
   "outputs": [
    {
     "name": "stderr",
     "output_type": "stream",
     "text": [
      "[nltk_data] Downloading package stopwords to /root/nltk_data...\n",
      "[nltk_data]   Package stopwords is already up-to-date!\n"
     ]
    },
    {
     "data": {
      "text/plain": [
       "True"
      ]
     },
     "execution_count": 3,
     "metadata": {},
     "output_type": "execute_result"
    }
   ],
   "source": [
    "import pyspark\n",
    "import sys\n",
    "from collections import Counter, OrderedDict, defaultdict\n",
    "import itertools\n",
    "from itertools import islice, count, groupby\n",
    "import pandas as pd\n",
    "import os\n",
    "import re\n",
    "from operator import itemgetter\n",
    "import nltk\n",
    "from nltk.stem.porter import *\n",
    "from nltk.corpus import stopwords\n",
    "from time import time\n",
    "from pathlib import Path\n",
    "import pickle\n",
    "import pandas as pd\n",
    "from google.cloud import storage\n",
    "from numpy.linalg import norm\n",
    "import math\n",
    "\n",
    "import hashlib\n",
    "def _hash(s):\n",
    "    return hashlib.blake2b(bytes(s, encoding='utf8'), digest_size=5).hexdigest()\n",
    "\n",
    "nltk.download('stopwords')"
   ]
  },
  {
   "cell_type": "code",
   "execution_count": 4,
   "id": "7df89567",
   "metadata": {
    "id": "7df89567",
    "outputId": "d8d8e030-442a-4c7c-9bac-4ac88be6c445",
    "pycharm": {
     "name": "#%%\n"
    }
   },
   "outputs": [
    {
     "name": "stdout",
     "output_type": "stream",
     "text": [
      "-rw-r--r-- 1 root root 247882 Jan 13 18:33 /usr/lib/spark/jars/graphframes-0.8.2-spark3.1-s_2.12.jar\r\n"
     ]
    }
   ],
   "source": [
    "# if nothing prints here you forgot to include the initialization script when starting the cluster\n",
    "!ls -l /usr/lib/spark/jars/graph*"
   ]
  },
  {
   "cell_type": "code",
   "execution_count": 5,
   "id": "5889392a",
   "metadata": {
    "id": "5889392a",
    "pycharm": {
     "name": "#%%\n"
    }
   },
   "outputs": [],
   "source": [
    "from pyspark.sql import *\n",
    "from pyspark.sql.functions import *\n",
    "from pyspark import SparkContext, SparkConf, SparkFiles\n",
    "from pyspark.sql import SQLContext\n",
    "from graphframes import *"
   ]
  },
  {
   "cell_type": "code",
   "execution_count": 6,
   "id": "5f75b2b8",
   "metadata": {
    "id": "5f75b2b8",
    "outputId": "63398dd3-e7f8-480a-d068-a5bef6a8901b",
    "pycharm": {
     "name": "#%%\n"
    }
   },
   "outputs": [
    {
     "data": {
      "text/html": [
       "\n",
       "            <div>\n",
       "                <p><b>SparkSession - hive</b></p>\n",
       "                \n",
       "        <div>\n",
       "            <p><b>SparkContext</b></p>\n",
       "\n",
       "            <p><a href=\"http://cluster-f9c0-m.c.ir-ass3-370516.internal:40435\">Spark UI</a></p>\n",
       "\n",
       "            <dl>\n",
       "              <dt>Version</dt>\n",
       "                <dd><code>v3.1.3</code></dd>\n",
       "              <dt>Master</dt>\n",
       "                <dd><code>yarn</code></dd>\n",
       "              <dt>AppName</dt>\n",
       "                <dd><code>PySparkShell</code></dd>\n",
       "            </dl>\n",
       "        </div>\n",
       "        \n",
       "            </div>\n",
       "        "
      ],
      "text/plain": [
       "<pyspark.sql.session.SparkSession at 0x7f356d81dc70>"
      ]
     },
     "execution_count": 6,
     "metadata": {},
     "output_type": "execute_result"
    }
   ],
   "source": [
    "spark"
   ]
  },
  {
   "cell_type": "code",
   "execution_count": 7,
   "id": "00575735",
   "metadata": {
    "id": "00575735",
    "pycharm": {
     "name": "#%%\n"
    }
   },
   "outputs": [],
   "source": [
    "# Get blob names of parguet files to read\n",
    "bucket_name = 'ir_project_lssl' \n",
    "full_path = f\"gs://{bucket_name}/\"\n",
    "paths=[]\n",
    "\n",
    "client = storage.Client()\n",
    "blobs = client.list_blobs(bucket_name)\n",
    "for b in blobs:\n",
    "    if '.parquet' in b.name:\n",
    "        paths.append(full_path+b.name)"
   ]
  },
  {
   "cell_type": "markdown",
   "id": "72a08e51",
   "metadata": {
    "id": "72a08e51",
    "pycharm": {
     "name": "#%% md\n"
    }
   },
   "source": [
    "***GCP setup is complete!***"
   ]
  },
  {
   "cell_type": "markdown",
   "id": "6a277f63",
   "metadata": {
    "id": "6a277f63",
    "pycharm": {
     "name": "#%% md\n"
    }
   },
   "source": [
    "# Building an inverted index (without stemming, plain tokenizer)"
   ]
  },
  {
   "cell_type": "markdown",
   "id": "7a3a570a",
   "metadata": {
    "id": "7a3a570a",
    "pycharm": {
     "name": "#%% md\n"
    }
   },
   "source": [
    "Here, we read the entire corpus to an rdd, directly from Google Storage Bucket."
   ]
  },
  {
   "cell_type": "code",
   "execution_count": 8,
   "id": "79bc2464",
   "metadata": {
    "id": "79bc2464",
    "outputId": "d53ff483-3566-4497-a092-048afce0d924",
    "pycharm": {
     "name": "#%%\n"
    }
   },
   "outputs": [
    {
     "name": "stderr",
     "output_type": "stream",
     "text": [
      "                                                                                \r"
     ]
    }
   ],
   "source": [
    "parquetFile = spark.read.parquet(*paths)"
   ]
  },
  {
   "cell_type": "markdown",
   "source": [
    "Create an id->title dictionary and export to GCS bucket"
   ],
   "metadata": {
    "collapsed": false,
    "pycharm": {
     "name": "#%% md\n"
    }
   }
  },
  {
   "cell_type": "code",
   "execution_count": null,
   "id": "c5bbcf7d",
   "metadata": {
    "id": "c5bbcf7d",
    "outputId": "a04c3ea4-eab6-415c-a5f3-ca0c62eddcd4",
    "pycharm": {
     "name": "#%%\n"
    }
   },
   "outputs": [],
   "source": [
    "doc_title_dict = parquetFile.select(\"id\", \"title\").rdd.collectAsMap()\n",
    "# write out the counter as binary file (pickle it)\n",
    "title_dict = 'title_dict.pkl'\n",
    "with open(title_dict, 'wb') as f:\n",
    "  pickle.dump(doc_title_dict, f)\n",
    "# upload to gs\n",
    "#index_src = \"anchortextindex.pkl\"\n",
    "index_dst = f'gs://{bucket_name}/gcp_title_dict/{title_dict}'\n",
    "!gsutil cp $title_dict $index_dst"
   ]
  },
  {
   "cell_type": "markdown",
   "source": [
    "Read all parquet files into RDDs: one for each components"
   ],
   "metadata": {
    "collapsed": false,
    "pycharm": {
     "name": "#%% md\n"
    }
   }
  },
  {
   "cell_type": "code",
   "execution_count": 14,
   "id": "1579797f",
   "metadata": {
    "id": "1579797f",
    "pycharm": {
     "name": "#%%\n"
    }
   },
   "outputs": [],
   "source": [
    "doc_text_pairs = parquetFile.select(\"text\", \"id\").rdd\n",
    "doc_title_pairs = parquetFile.select(\"title\", \"id\").rdd\n",
    "doc_anchor_text_pairs = parquetFile.select(\"anchor_text\", \"id\").rdd"
   ]
  },
  {
   "cell_type": "markdown",
   "id": "21749618",
   "metadata": {
    "id": "21749618",
    "pycharm": {
     "name": "#%% md\n"
    }
   },
   "source": [
    "We will count the number of pages to make sure we are looking at the entire corpus. The number of pages should be more than 6M"
   ]
  },
  {
   "cell_type": "code",
   "execution_count": null,
   "id": "ab43b80c",
   "metadata": {
    "id": "ab43b80c",
    "outputId": "d5ca381c-90e1-419b-b6ef-4dfa055565ce",
    "pycharm": {
     "name": "#%%\n"
    }
   },
   "outputs": [],
   "source": [
    "# Count number of wiki pages\n",
    "parquetFile.count()"
   ]
  },
  {
   "cell_type": "markdown",
   "id": "d25542c8",
   "metadata": {
    "id": "d25542c8",
    "pycharm": {
     "name": "#%% md\n"
    }
   },
   "source": [
    "Import the Inverted Index class"
   ]
  },
  {
   "cell_type": "code",
   "execution_count": null,
   "id": "c9d3674f",
   "metadata": {
    "id": "c9d3674f",
    "outputId": "6cc71a18-0e5c-4c5f-d4ae-eb91e92d3ec0",
    "pycharm": {
     "name": "#%%\n"
    }
   },
   "outputs": [],
   "source": [
    "%cd -q /home/dataproc\n",
    "!ls inverted_index_gcp.py"
   ]
  },
  {
   "cell_type": "code",
   "execution_count": null,
   "id": "c91b2607",
   "metadata": {
    "id": "c91b2607",
    "pycharm": {
     "name": "#%%\n"
    }
   },
   "outputs": [],
   "source": [
    "sc.addFile(\"/home/dataproc/inverted_index_gcp.py\")\n",
    "sys.path.insert(0,SparkFiles.getRootDirectory())"
   ]
  },
  {
   "cell_type": "code",
   "execution_count": null,
   "id": "7f4f2acf",
   "metadata": {
    "id": "7f4f2acf",
    "pycharm": {
     "name": "#%%\n"
    }
   },
   "outputs": [],
   "source": [
    "from inverted_index_gcp import InvertedIndex"
   ]
  },
  {
   "cell_type": "markdown",
   "source": [
    "Helper functions to generate Index attributes using MapReduce and Pyspark"
   ],
   "metadata": {
    "collapsed": false,
    "pycharm": {
     "name": "#%% md\n"
    }
   }
  },
  {
   "cell_type": "code",
   "execution_count": null,
   "id": "c3c9a071",
   "metadata": {
    "id": "c3c9a071",
    "pycharm": {
     "name": "#%%\n"
    }
   },
   "outputs": [],
   "source": [
    "english_stopwords = frozenset(stopwords.words('english'))\n",
    "corpus_stopwords = [\"category\", \"references\", \"also\", \"external\", \"links\", \n",
    "                    \"may\", \"first\", \"see\", \"history\", \"people\", \"one\", \"two\", \n",
    "                    \"part\", \"thumb\", \"including\", \"second\", \"following\", \n",
    "                    \"many\", \"however\", \"would\", \"became\"]\n",
    "\n",
    "all_stopwords = english_stopwords.union(corpus_stopwords)\n",
    "RE_WORD = re.compile(r\"\"\"[\\#\\@\\w](['\\-]?\\w){2,24}\"\"\", re.UNICODE)\n",
    "stemmer = PorterStemmer()\n",
    "\n",
    "NUM_BUCKETS = 124\n",
    "def token2bucket_id(token):\n",
    "  return int(_hash(token),16) % NUM_BUCKETS\n",
    "\n",
    "def doc_len(text, id):\n",
    "  ''' Count the amount of words in `text` DL that are not included in\n",
    "  `all_stopwords` and return entries that will go into Doc Len dictionary.\n",
    "  Parameters:\n",
    "  -----------\n",
    "    text: str\n",
    "      Text of one document\n",
    "    id: int\n",
    "      Document id\n",
    "  Returns:\n",
    "  --------\n",
    "    Tuple (doc_id, len(doc))\n",
    "  '''\n",
    "  tokens = [token.group() for token in RE_WORD.finditer(text.lower())]\n",
    "  filtered =  [stemmer.stem(word) for word in tokens if word not in all_stopwords]\n",
    "  results = []\n",
    "  #if len(filtered) != 0:\n",
    "  results.append((id,len(filtered)))\n",
    "  return results\n",
    "\n",
    "def norm_doc(text, id, doc_lens,w2df_dict):\n",
    "  ''' Calculate the document norm after the text has been tokenized and stop_word were removed.\n",
    "  Used for Cosine Similarity calculation.\n",
    "  Parameters:\n",
    "  -----------\n",
    "    text: str\n",
    "      Text of one document\n",
    "    id: int\n",
    "      Document id\n",
    "    doc_lens: dict\n",
    "      index.Dl id->len\n",
    "    w2df_dict: dict\n",
    "      index.df term->doc_freq\n",
    "  Returns:\n",
    "  --------\n",
    "    List of tuples\n",
    "      (doc_id, doc_norm)\n",
    "  '''\n",
    "  tokens = [token.group() for token in RE_WORD.finditer(text.lower())]\n",
    "  filtered =  [stemmer.stem(word) for word in tokens if word not in all_stopwords]\n",
    "  freq = defaultdict(int)\n",
    "  results = []\n",
    "  for word in filtered:\n",
    "    freq[word] += 1\n",
    "  dl = doc_lens[id]\n",
    "  normlized_tfidf = [(wordfreq /dl) * math.log(len(doc_lens) / w2df_dict[word], 10) for word, wordfreq in freq.items() if word in w2df_dict.keys()]\n",
    "  norma = norm(normlized_tfidf)\n",
    "  results.append((id,norma))\n",
    "  return results\n",
    "\n",
    "def word_count(text, id):\n",
    "  ''' Count the frequency of each word in `text` (tf) that is not included in \n",
    "  `all_stopwords` and return entries that will go into our posting lists. \n",
    "  Parameters:\n",
    "  -----------\n",
    "    text: str\n",
    "      Text of one document\n",
    "    id: int\n",
    "      Document id\n",
    "  Returns:\n",
    "  --------\n",
    "    List of tuples\n",
    "      A list of (token, (doc_id, tf)) pairs \n",
    "      for example: [(\"Anarchism\", (12, 5)), ...]\n",
    "  '''\n",
    "  tokens = [token.group() for token in RE_WORD.finditer(text.lower())]\n",
    "  filtered =  [stemmer.stem(word) for word in tokens if word not in all_stopwords]\n",
    "  freq = defaultdict(int)\n",
    "  results = []\n",
    "  for word in filtered:\n",
    "    freq[word] += 1\n",
    "  for term in freq.items():\n",
    "    results.append((term[0],(id,term[1])))\n",
    "  return results\n",
    "\n",
    "def reduce_word_counts(unsorted_pl):\n",
    "  ''' Returns a sorted posting list by wiki_id.\n",
    "  Parameters:\n",
    "  -----------\n",
    "    unsorted_pl: list of tuples\n",
    "      A list of (wiki_id, tf) tuples \n",
    "  Returns:\n",
    "  --------\n",
    "    list of tuples\n",
    "      A sorted posting list.\n",
    "  '''\n",
    "  srtdpl = sorted(unsorted_pl,key=lambda x: x[1])\n",
    "  return srtdpl\n",
    "\n",
    "\n",
    "def calculate_df(postings):\n",
    "  ''' Takes a posting list RDD and calculate the df for each token.\n",
    "  Parameters:\n",
    "  -----------\n",
    "    postings: RDD\n",
    "      An RDD where each element is a (token, posting_list) pair.\n",
    "  Returns:\n",
    "  --------\n",
    "    RDD\n",
    "      An RDD where each element is a (token, df) pair.\n",
    "  '''\n",
    "  df_rdd = postings.groupByKey().mapValues(lambda x: len(list(x)[0]))\n",
    "  return df_rdd\n",
    "\n",
    "def partition_postings_and_write(postings,prefix):\n",
    "  ''' A function that partitions the posting lists into buckets, writes out \n",
    "  all posting lists in a bucket to disk, and returns the posting locations for \n",
    "  each bucket. Partitioning should be done through the use of `token2bucket` \n",
    "  above. Writing to disk should use the function  `write_a_posting_list`, a \n",
    "  static method implemented in inverted_index_colab.py under the InvertedIndex \n",
    "  class. \n",
    "  Parameters:\n",
    "  -----------\n",
    "    postings: RDD\n",
    "      An RDD where each item is a (w, posting_list) pair.\n",
    "    prefix: string\n",
    "     The location of the index in the bucket.\n",
    "  Returns:\n",
    "  --------\n",
    "    RDD\n",
    "      An RDD where each item is a posting locations dictionary for a bucket. The\n",
    "      posting locations maintain a list for each word of file locations and \n",
    "      offsets its posting list was written to. See `write_a_posting_list` for \n",
    "      more details.\n",
    "  '''\n",
    "  hashed = postings.map(lambda x: (token2bucket_id(x[0]),(x[0],x[1])))\n",
    "  buckets = hashed.groupByKey().map(lambda row: InvertedIndex.write_a_posting_list(row, bucket_name,prefix))\n",
    "  return buckets"
   ]
  },
  {
   "cell_type": "markdown",
   "id": "7ae82745",
   "metadata": {
    "id": "7ae82745",
    "pycharm": {
     "name": "#%% md\n"
    }
   },
   "source": [
    "TEXT INDEX"
   ]
  },
  {
   "cell_type": "markdown",
   "source": [
    "Calculate the components using the above functions"
   ],
   "metadata": {
    "collapsed": false,
    "pycharm": {
     "name": "#%% md\n"
    }
   }
  },
  {
   "cell_type": "code",
   "execution_count": null,
   "id": "f1165198",
   "metadata": {
    "id": "f1165198",
    "outputId": "c9c11d6e-1509-4518-9934-fa8b66b2cbe2",
    "pycharm": {
     "name": "#%%\n"
    }
   },
   "outputs": [],
   "source": [
    "# time the index creation time\n",
    "t_start = time()\n",
    "# calculate doc len\n",
    "doc_lens = doc_text_pairs.flatMap(lambda x: doc_len(x[0], x[1])).collectAsMap()\n",
    "# word counts map\n",
    "word_counts = doc_text_pairs.flatMap(lambda x: word_count(x[0], x[1]))\n",
    "postings = word_counts.groupByKey().mapValues(reduce_word_counts)\n",
    "# filtering postings and calculate df\n",
    "postings_filtered = postings.filter(lambda x: len(x[1])>50)\n",
    "w2df = calculate_df(postings_filtered)\n",
    "w2df_dict = w2df.collectAsMap()\n",
    "doc_norm = doc_text_pairs.flatMap(lambda x: norm_doc(x[0], x[1],doc_lens,w2df_dict)).collectAsMap()\n",
    "# partition posting lists and write out\n",
    "_ = partition_postings_and_write(postings_filtered,\"postings_gcp_text_wnorm\").collect()\n",
    "index_const_time = time() - t_start"
   ]
  },
  {
   "cell_type": "markdown",
   "source": [
    "Check index_const_time in minutes"
   ],
   "metadata": {
    "collapsed": false,
    "pycharm": {
     "name": "#%% md\n"
    }
   }
  },
  {
   "cell_type": "code",
   "execution_count": null,
   "id": "8db3fea5",
   "metadata": {
    "id": "8db3fea5",
    "outputId": "c48af1b5-722e-4258-f360-51bd83d0b844",
    "pycharm": {
     "name": "#%%\n"
    }
   },
   "outputs": [],
   "source": [
    "index_const_time/60"
   ]
  },
  {
   "cell_type": "markdown",
   "source": [
    "Collect posting locations into a dictionary"
   ],
   "metadata": {
    "collapsed": false,
    "pycharm": {
     "name": "#%% md\n"
    }
   }
  },
  {
   "cell_type": "code",
   "execution_count": null,
   "id": "ac98f619",
   "metadata": {
    "id": "ac98f619",
    "pycharm": {
     "name": "#%%\n"
    }
   },
   "outputs": [],
   "source": [
    "# collect all posting lists locations into one super-set\n",
    "super_posting_locs = defaultdict(list)\n",
    "for blob in client.list_blobs(bucket_name, prefix='postings_gcp_text_wnorm'):\n",
    "  if not blob.name.endswith(\"pickle\"):\n",
    "    continue\n",
    "  with blob.open(\"rb\") as f:\n",
    "    posting_locs = pickle.load(f)\n",
    "    for k, v in posting_locs.items():\n",
    "      super_posting_locs[k].extend(v)"
   ]
  },
  {
   "cell_type": "markdown",
   "source": [
    "Save calculated components into the inverted index attributes and export to index to bucket"
   ],
   "metadata": {
    "collapsed": false,
    "pycharm": {
     "name": "#%% md\n"
    }
   }
  },
  {
   "cell_type": "code",
   "execution_count": null,
   "id": "a74ca9d5",
   "metadata": {
    "id": "a74ca9d5",
    "outputId": "b9e3eb1a-b360-4ef1-8737-174e217b167e",
    "pycharm": {
     "name": "#%%\n"
    }
   },
   "outputs": [],
   "source": [
    "# Create inverted index instance\n",
    "textinverted = InvertedIndex()\n",
    "# Adding the posting locations dictionary to the inverted index\n",
    "textinverted.posting_locs = super_posting_locs\n",
    "textinverted.DL = doc_lens\n",
    "textinverted.DN = doc_norm\n",
    "# Add the token - df dictionary to the inverted index\n",
    "textinverted.df = w2df_dict\n",
    "# write the global stats out\n",
    "textinverted.write_index('.', 'textindex')\n",
    "# upload to gs\n",
    "index_src = \"textindex.pkl\"\n",
    "index_dst = f'gs://{bucket_name}/postings_gcp_text_wnorm/{index_src}'\n",
    "!gsutil cp $index_src $index_dst"
   ]
  },
  {
   "cell_type": "markdown",
   "id": "6c956075",
   "metadata": {
    "id": "6c956075",
    "pycharm": {
     "name": "#%% md\n"
    }
   },
   "source": [
    "TITLE INDEX"
   ]
  },
  {
   "cell_type": "markdown",
   "source": [
    "Calculate the components using the above functions"
   ],
   "metadata": {
    "collapsed": false,
    "pycharm": {
     "name": "#%% md\n"
    }
   }
  },
  {
   "cell_type": "code",
   "execution_count": null,
   "id": "bb3d2ac1",
   "metadata": {
    "id": "bb3d2ac1",
    "outputId": "d480ea05-b7b1-41e0-8004-cd71357df68c",
    "pycharm": {
     "name": "#%%\n"
    }
   },
   "outputs": [],
   "source": [
    "# time the index creation time\n",
    "t_start = time()\n",
    "# calculate doc len\n",
    "doc_lens = doc_title_pairs.flatMap(lambda x: doc_len(x[0], x[1])).collectAsMap()\n",
    "# word counts map\n",
    "word_counts = doc_title_pairs.flatMap(lambda x: word_count(x[0], x[1]))\n",
    "postings = word_counts.groupByKey().mapValues(reduce_word_counts)\n",
    "# filtering postings and calculate df\n",
    "#postings_filtered = postings.filter(lambda x: len(x[1])>25)\n",
    "w2df = calculate_df(postings)\n",
    "w2df_dict = w2df.collectAsMap()\n",
    "# calculate doc norm\n",
    "doc_norm = doc_title_pairs.flatMap(lambda x: norm_doc(x[0], x[1],doc_lens,w2df_dict)).collectAsMap()\n",
    "# partition posting lists and write out\n",
    "_ = partition_postings_and_write(postings,\"postings_gcp_title_wnorm\").collect()\n",
    "index_const_time = time() - t_start"
   ]
  },
  {
   "cell_type": "markdown",
   "source": [
    "Check index_const_time in minutes"
   ],
   "metadata": {
    "collapsed": false,
    "pycharm": {
     "name": "#%% md\n"
    }
   }
  },
  {
   "cell_type": "code",
   "execution_count": null,
   "id": "46bac3ca",
   "metadata": {
    "id": "46bac3ca",
    "outputId": "bcb0420a-32f2-4672-c22f-52388d5a417f",
    "pycharm": {
     "name": "#%%\n"
    }
   },
   "outputs": [],
   "source": [
    "index_const_time/60"
   ]
  },
  {
   "cell_type": "markdown",
   "source": [
    "Collect posting locations into a dictionary"
   ],
   "metadata": {
    "collapsed": false,
    "pycharm": {
     "name": "#%% md\n"
    }
   }
  },
  {
   "cell_type": "code",
   "execution_count": null,
   "id": "e16f9015",
   "metadata": {
    "id": "e16f9015",
    "pycharm": {
     "name": "#%%\n"
    }
   },
   "outputs": [],
   "source": [
    "# collect all posting lists locations into one super-set\n",
    "super_posting_locs = defaultdict(list)\n",
    "for blob in client.list_blobs(bucket_name, prefix='postings_gcp_title_wnorm'):\n",
    "  if not blob.name.endswith(\"pickle\"):\n",
    "    continue\n",
    "  with blob.open(\"rb\") as f:\n",
    "    posting_locs = pickle.load(f)\n",
    "    for k, v in posting_locs.items():\n",
    "      super_posting_locs[k].extend(v)"
   ]
  },
  {
   "cell_type": "markdown",
   "source": [
    "Save calculated components into the inverted index attributes and export to index to bucket"
   ],
   "metadata": {
    "collapsed": false,
    "pycharm": {
     "name": "#%% md\n"
    }
   }
  },
  {
   "cell_type": "code",
   "execution_count": null,
   "id": "802c372f",
   "metadata": {
    "id": "802c372f",
    "outputId": "a9f09b74-6278-423b-e475-8cfc2a67e772",
    "pycharm": {
     "name": "#%%\n"
    }
   },
   "outputs": [],
   "source": [
    "# Create inverted index instance\n",
    "titleinverted = InvertedIndex()\n",
    "# Adding the posting locations dictionary to the inverted index\n",
    "titleinverted.posting_locs = super_posting_locs\n",
    "titleinverted.DL = doc_lens\n",
    "titleinverted.DN = doc_norm\n",
    "# Add the token - df dictionary to the inverted index\n",
    "titleinverted.df = w2df_dict\n",
    "# write the global stats out\n",
    "titleinverted.write_index('.', 'titleindex')\n",
    "# upload to gs\n",
    "index_src = \"titleindex.pkl\"\n",
    "index_dst = f'gs://{bucket_name}/postings_gcp_title_wnorm/{index_src}'\n",
    "!gsutil cp $index_src $index_dst"
   ]
  },
  {
   "cell_type": "markdown",
   "id": "8c8e0e66",
   "metadata": {
    "id": "8c8e0e66",
    "pycharm": {
     "name": "#%% md\n"
    }
   },
   "source": [
    "Anchor Text Index"
   ]
  },
  {
   "cell_type": "markdown",
   "source": [
    "Pre processing function of anchor text input"
   ],
   "metadata": {
    "collapsed": false,
    "pycharm": {
     "name": "#%% md\n"
    }
   }
  },
  {
   "cell_type": "code",
   "execution_count": null,
   "id": "6829748e",
   "metadata": {
    "id": "6829748e",
    "pycharm": {
     "name": "#%%\n"
    }
   },
   "outputs": [],
   "source": [
    "def pre_process_anchor_text(doc_anchor_text_pairs):\n",
    "  ''' Pre process anchor_text data by removing ids and concatenating anchor_text string into one string.\n",
    "  Parameters:\n",
    "  -----------\n",
    "    doc_anchor_text_pairs: RDD\n",
    "      An RDD where each row consists of one wikipedia articles with 'id' and \n",
    "      'anchor_text'.\n",
    "  Returns:\n",
    "  --------\n",
    "    doc_anchor_text_pairs: RDD\n",
    "      An RDD where each row consists of one wikipedia article with 'id' and\n",
    "      'anchor_text' concatenated as strings.\n",
    "  '''\n",
    "  anchor = doc_anchor_text_pairs.map(lambda row:([text[1] for text in row[0]], row[1]))\n",
    "  anchor_str = anchor.map(lambda row:(' '.join(row[0]), row[1]))\n",
    "  return anchor_str"
   ]
  },
  {
   "cell_type": "markdown",
   "source": [
    "Calculate the components using the above functions"
   ],
   "metadata": {
    "collapsed": false,
    "pycharm": {
     "name": "#%% md\n"
    }
   }
  },
  {
   "cell_type": "code",
   "execution_count": null,
   "id": "dc33658c",
   "metadata": {
    "id": "dc33658c",
    "outputId": "7b0b1dff-4c26-4029-9307-387beece6b21",
    "pycharm": {
     "name": "#%%\n"
    }
   },
   "outputs": [],
   "source": [
    "# time the index creation time\n",
    "t_start = time()\n",
    "# word counts map\n",
    "pre_proc_anchor = pre_process_anchor_text(doc_anchor_text_pairs)\n",
    "doc_lens = pre_proc_anchor.flatMap(lambda x: doc_len(x[0], x[1])).collectAsMap()\n",
    "word_counts = pre_proc_anchor.flatMap(lambda x: word_count(x[0], x[1]))\n",
    "postings = word_counts.groupByKey().mapValues(reduce_word_counts)\n",
    "# filtering postings and calculate df\n",
    "#postings_filtered = postings.filter(lambda x: len(x[1])>25)\n",
    "w2df = calculate_df(postings)\n",
    "w2df_dict = w2df.collectAsMap()\n",
    "# calculate doc norm\n",
    "doc_norm = pre_proc_anchor.flatMap(lambda x: norm_doc(x[0], x[1],doc_lens,w2df_dict)).collectAsMap()\n",
    "# partition posting lists and write out\n",
    "_ = partition_postings_and_write(postings,\"postings_gcp_anchor_wnorm\").collect()\n",
    "index_const_time = time() - t_start"
   ]
  },
  {
   "cell_type": "markdown",
   "source": [
    "Check index_const_time in minutes"
   ],
   "metadata": {
    "collapsed": false,
    "pycharm": {
     "name": "#%% md\n"
    }
   }
  },
  {
   "cell_type": "code",
   "execution_count": null,
   "id": "358c6feb",
   "metadata": {
    "id": "358c6feb",
    "pycharm": {
     "name": "#%%\n"
    }
   },
   "outputs": [],
   "source": [
    "index_const_time/60"
   ]
  },
  {
   "cell_type": "markdown",
   "source": [
    "Collect posting locations into a dictionary"
   ],
   "metadata": {
    "collapsed": false,
    "pycharm": {
     "name": "#%% md\n"
    }
   }
  },
  {
   "cell_type": "code",
   "execution_count": null,
   "id": "1585f6c2",
   "metadata": {
    "id": "1585f6c2",
    "pycharm": {
     "name": "#%%\n"
    }
   },
   "outputs": [],
   "source": [
    "# collect all posting lists locations into one super-set\n",
    "super_posting_locs = defaultdict(list)\n",
    "for blob in client.list_blobs(bucket_name, prefix='postings_gcp_anchor_wnorm'):\n",
    "  if not blob.name.endswith(\"pickle\"):\n",
    "    continue\n",
    "  with blob.open(\"rb\") as f:\n",
    "    posting_locs = pickle.load(f)\n",
    "    for k, v in posting_locs.items():\n",
    "      super_posting_locs[k].extend(v)"
   ]
  },
  {
   "cell_type": "markdown",
   "source": [
    "Save calculated components into the inverted index attributes and export to index to bucket\n"
   ],
   "metadata": {
    "collapsed": false,
    "pycharm": {
     "name": "#%% md\n"
    }
   }
  },
  {
   "cell_type": "code",
   "execution_count": null,
   "id": "0ca49e50",
   "metadata": {
    "id": "0ca49e50",
    "pycharm": {
     "name": "#%%\n"
    }
   },
   "outputs": [],
   "source": [
    "# Create inverted index instance\n",
    "anchorinverted = InvertedIndex()\n",
    "# Adding the posting locations dictionary to the inverted index\n",
    "anchorinverted.posting_locs = super_posting_locs\n",
    "# Add the token - df dictionary to the inverted index\n",
    "anchorinverted.df = w2df_dict\n",
    "anchorinverted.DL = doc_lens\n",
    "anchorinverted.DN = doc_norm\n",
    "# write the global stats out\n",
    "anchorinverted.write_index('.', 'anchortextindex')\n",
    "# upload to gs\n",
    "index_src = \"anchortextindex.pkl\"\n",
    "index_dst = f'gs://{bucket_name}/postings_gcp_anchor_wnorm/{index_src}'\n",
    "!gsutil cp $index_src $index_dst"
   ]
  },
  {
   "cell_type": "markdown",
   "id": "3cff7dd5",
   "metadata": {
    "id": "3cff7dd5",
    "pycharm": {
     "name": "#%% md\n"
    }
   },
   "source": [
    "# PageRank"
   ]
  },
  {
   "cell_type": "code",
   "execution_count": null,
   "id": "bb872ed3",
   "metadata": {
    "id": "bb872ed3",
    "pycharm": {
     "name": "#%%\n"
    }
   },
   "outputs": [],
   "source": [
    "def generate_graph(pages):\n",
    "  ''' Compute the directed graph generated by wiki links.\n",
    "  Parameters:\n",
    "  -----------\n",
    "    pages: RDD\n",
    "      An RDD where each row consists of one wikipedia articles with 'id' and \n",
    "      'anchor_text'.\n",
    "  Returns:\n",
    "  --------\n",
    "    edges: RDD\n",
    "      An RDD where each row represents an edge in the directed graph created by\n",
    "      the wikipedia links. The first entry should the source page id and the \n",
    "      second entry is the destination page id. No duplicates should be present. \n",
    "    vertices: RDD\n",
    "      An RDD where each row represents a vetrix (node) in the directed graph \n",
    "      created by the wikipedia links. No duplicates should be present. \n",
    "  '''\n",
    "  grpdcouples = pages.map(lambda x: (x[1],list(set([id[0] for id in x[0]]))))\n",
    "  edges = grpdcouples.flatMap(lambda k_v: [(k_v[0], x) for x in k_v[1]])\n",
    "  vertices = edges.flatMap(lambda x: [(x[0],),(x[1],)]).distinct()\n",
    "  return edges, vertices"
   ]
  },
  {
   "cell_type": "code",
   "execution_count": null,
   "id": "5fbf026e",
   "metadata": {
    "id": "5fbf026e",
    "outputId": "5787e645-2038-467d-a91a-2f36d10f6572",
    "pycharm": {
     "name": "#%%\n"
    }
   },
   "outputs": [],
   "source": [
    "t_start = time()\n",
    "# construct the graph \n",
    "edges, vertices = generate_graph(doc_anchor_text_pairs)\n",
    "# compute PageRank\n",
    "edgesDF = edges.toDF(['src', 'dst']).repartition(124, 'src')\n",
    "verticesDF = vertices.toDF(['id']).repartition(124, 'id')\n",
    "g = GraphFrame(verticesDF, edgesDF)\n",
    "pr_results = g.pageRank(resetProbability=0.15, maxIter=6)\n",
    "pr = pr_results.vertices.select(\"id\", \"pagerank\")\n",
    "pr = pr.sort(col('pagerank').desc())\n",
    "#pr.repartition(1).write.csv(f'gs://{bucket_name}/pr', compression=\"gzip\")\n",
    "pr.repartition(1).write.csv(f'gs://{bucket_name}/pr')\n",
    "pr_time = time() - t_start\n",
    "pr.show()"
   ]
  },
  {
   "cell_type": "markdown",
   "id": "a4918fa0",
   "metadata": {
    "id": "a4918fa0",
    "pycharm": {
     "name": "#%% md\n"
    }
   },
   "source": [
    "# Page Views"
   ]
  },
  {
   "cell_type": "code",
   "execution_count": null,
   "id": "4c1a62d7",
   "metadata": {
    "id": "4c1a62d7",
    "pycharm": {
     "name": "#%%\n"
    },
    "scrolled": true
   },
   "outputs": [],
   "source": [
    "# Paths\n",
    "# Using user page views (as opposed to spiders and automated traffic) for the \n",
    "# month of August 2021\n",
    "pv_path = 'https://dumps.wikimedia.org/other/pageview_complete/monthly/2021/2021-08/pageviews-202108-user.bz2'\n",
    "p = Path(pv_path) \n",
    "pv_name = p.name\n",
    "pv_temp = f'{p.stem}-4dedup.txt'\n",
    "pv_clean = f'{p.stem}.pkl'\n",
    "# Download the file (2.3GB) \n",
    "!wget -N $pv_path\n",
    "# Filter for English pages, and keep just two fields: article ID (3) and monthly \n",
    "# total number of page views (5). Then, remove lines with article id or page \n",
    "# view values that are not a sequence of digits.\n",
    "!bzcat $pv_name | grep \"^en\\.wikipedia\" | cut -d' ' -f3,5 | grep -P \"^\\d+\\s\\d+$\" > $pv_temp\n",
    "# Create a Counter (dictionary) that sums up the pages views for the same \n",
    "# article, resulting in a mapping from article id to total page views.\n",
    "wid2pv = Counter()\n",
    "with open(pv_temp, 'rt') as f:\n",
    "  for line in f:\n",
    "    parts = line.split(' ')\n",
    "    wid2pv.update({int(parts[0]): int(parts[1])})\n",
    "# write out the counter as binary file (pickle it)\n",
    "with open(pv_clean, 'wb') as f:\n",
    "  pickle.dump(wid2pv, f)\n",
    "# read in the counter\n",
    "# with open(pv_clean, 'rb') as f:\n",
    "#   wid2pv = pickle.loads(f.read())"
   ]
  }
 ],
 "metadata": {
  "celltoolbar": "Create Assignment",
  "colab": {
   "provenance": [],
   "toc_visible": true
  },
  "kernelspec": {
   "display_name": "PySpark",
   "language": "python",
   "name": "pyspark"
  },
  "language_info": {
   "codemirror_mode": {
    "name": "ipython",
    "version": 3
   },
   "file_extension": ".py",
   "mimetype": "text/x-python",
   "name": "python",
   "nbconvert_exporter": "python",
   "pygments_lexer": "ipython3",
   "version": "3.8.15"
  }
 },
 "nbformat": 4,
 "nbformat_minor": 5
}